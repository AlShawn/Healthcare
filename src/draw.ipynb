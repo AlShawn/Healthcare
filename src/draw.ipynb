{
 "cells": [
  {
   "cell_type": "code",
   "execution_count": 1,
   "metadata": {},
   "outputs": [],
   "source": [
    "import pandas as pd\n",
    "import numpy as np\n",
    "import seaborn as sns\n",
    "import matplotlib.pyplot as plt\n",
    "pd.options.display.max_columns = None #show all cols\n",
    "pd.options.display.max_colwidth = -1 #show complete value in each cells"
   ]
  },
  {
   "cell_type": "code",
   "execution_count": 2,
   "metadata": {},
   "outputs": [],
   "source": [
    "df=pd.read_csv('../clean_data/PHM2017/PHM2017.csv')"
   ]
  },
  {
   "cell_type": "markdown",
   "metadata": {},
   "source": [
    "- train/val/test split fraction: 6:2:2\n",
    "- use the f1 results from BiLSTM to draw"
   ]
  },
  {
   "cell_type": "code",
   "execution_count": 3,
   "metadata": {},
   "outputs": [
    {
     "data": {
      "text/plain": [
       "array([ 10, 511, 100,   4], dtype=int64)"
      ]
     },
     "execution_count": 3,
     "metadata": {},
     "output_type": "execute_result"
    }
   ],
   "source": [
    "df.groupby(['symptom','label']).count().loc['alzheimer']['id'].apply(lambda x:int(x*0.6)).values"
   ]
  },
  {
   "cell_type": "code",
   "execution_count": 4,
   "metadata": {},
   "outputs": [
    {
     "name": "stdout",
     "output_type": "stream",
     "text": [
      "symptom\n",
      "alzheimer       1045\n",
      "cancer          911 \n",
      "depression      836 \n",
      "heart attack    813 \n",
      "parkinson       793 \n",
      "stroke          890 \n",
      "Name: id, dtype: int64\n",
      "\n",
      "alzheimer\n",
      " [ 10 511 100   4]\n",
      "\n",
      "cancer\n",
      " [ 73 361  95  16]\n",
      "\n",
      "depression\n",
      " [ 60 248  16 175]\n",
      "\n",
      "heart attack\n",
      " [329  91  47  19]\n",
      "\n",
      "parkinson\n",
      " [109 318  39   8]\n",
      "\n",
      "stroke\n",
      " [294 159  66  13]\n"
     ]
    }
   ],
   "source": [
    "print(df.groupby(['symptom']).count()['id'])\n",
    "print('\\nalzheimer\\n',df.groupby(['symptom','label']).count().loc['alzheimer']['id'].apply(lambda x:int(x*0.6)).values)\n",
    "print('\\ncancer\\n',df.groupby(['symptom','label']).count().loc['cancer']['id'].apply(lambda x:int(x*0.6)).values)\n",
    "print('\\ndepression\\n',df.groupby(['symptom','label']).count().loc['depression']['id'].apply(lambda x:int(x*0.6)).values)\n",
    "print('\\nheart attack\\n',df.groupby(['symptom','label']).count().loc['heart attack']['id'].apply(lambda x:int(x*0.6)).values)\n",
    "print('\\nparkinson\\n',df.groupby(['symptom','label']).count().loc['parkinson']['id'].apply(lambda x:int(x*0.6)).values)\n",
    "print('\\nstroke\\n',df.groupby(['symptom','label']).count().loc['stroke']['id'].apply(lambda x:int(x*0.6)).values)"
   ]
  },
  {
   "cell_type": "code",
   "execution_count": 7,
   "metadata": {},
   "outputs": [],
   "source": [
    "alzheimer_f1={0:0.4,1:0.92,2:0.61,3:0}\n",
    "cancer_f1={0:0.39 ,1:0.85 ,2:0.55 ,3:0.22}\n",
    "depression_f1={0:0.40 ,1:0.65 ,2:0.0 ,3:0.60}\n",
    "heart_attack_f1={0:0.83 ,1:0.86 ,2:0.47 ,3:0.18}\n",
    "parkinson_f1={0:0.83 ,1:0.90 ,2:0.50 ,3:0.80}\n",
    "stroke_f1={0:0.82 ,1:0.73 ,2:0.65 ,3:0.22}\n",
    "\n",
    "all_f1s_dic=[alzheimer_f1,cancer_f1,depression_f1,heart_attack_f1,parkinson_f1,stroke_f1]\n",
    "all_disease_lst=['alzheimer','cancer','depression','heart attack','parkinson','stroke']"
   ]
  },
  {
   "cell_type": "code",
   "execution_count": 8,
   "metadata": {},
   "outputs": [
    {
     "name": "stdout",
     "output_type": "stream",
     "text": [
      "\n",
      "\n",
      "\n",
      "\n",
      "\n",
      "\n"
     ]
    }
   ],
   "source": [
    "disease_map_num_train_sample={}\n",
    "for dis in all_disease_lst:\n",
    "    print()\n",
    "    disease_map_num_train_sample[dis]=df.groupby(['symptom','label']).count().loc[dis]['id'].apply(lambda x:int(x*0.6)).values"
   ]
  },
  {
   "cell_type": "code",
   "execution_count": 9,
   "metadata": {},
   "outputs": [
    {
     "data": {
      "text/plain": [
       "{'alzheimer': array([ 10, 511, 100,   4], dtype=int64),\n",
       " 'cancer': array([ 73, 361,  95,  16], dtype=int64),\n",
       " 'depression': array([ 60, 248,  16, 175], dtype=int64),\n",
       " 'heart attack': array([329,  91,  47,  19], dtype=int64),\n",
       " 'parkinson': array([109, 318,  39,   8], dtype=int64),\n",
       " 'stroke': array([294, 159,  66,  13], dtype=int64)}"
      ]
     },
     "execution_count": 9,
     "metadata": {},
     "output_type": "execute_result"
    }
   ],
   "source": [
    "disease_map_num_train_sample"
   ]
  },
  {
   "cell_type": "code",
   "execution_count": 10,
   "metadata": {},
   "outputs": [
    {
     "ename": "NameError",
     "evalue": "name 'dataset' is not defined",
     "output_type": "error",
     "traceback": [
      "\u001b[1;31m---------------------------------------------------------------------------\u001b[0m",
      "\u001b[1;31mNameError\u001b[0m                                 Traceback (most recent call last)",
      "\u001b[1;32m<ipython-input-10-7ff92729b389>\u001b[0m in \u001b[0;36m<module>\u001b[1;34m()\u001b[0m\n\u001b[1;32m----> 1\u001b[1;33m \u001b[0mdataset\u001b[0m\u001b[1;33m\u001b[0m\u001b[0m\n\u001b[0m\u001b[0;32m      2\u001b[0m \u001b[0mall_disease_lst\u001b[0m\u001b[1;33m=\u001b[0m\u001b[1;33m[\u001b[0m\u001b[1;34m'Alzheimer'\u001b[0m\u001b[1;33m,\u001b[0m\u001b[1;34m'cancer'\u001b[0m\u001b[1;33m,\u001b[0m\u001b[1;34m'depression'\u001b[0m\u001b[1;33m,\u001b[0m\u001b[1;34m'heart attack'\u001b[0m\u001b[1;33m,\u001b[0m\u001b[1;34m'Parkinson'\u001b[0m\u001b[1;33m,\u001b[0m\u001b[1;34m'stroke'\u001b[0m\u001b[1;33m]\u001b[0m\u001b[1;33m\u001b[0m\u001b[0m\n",
      "\u001b[1;31mNameError\u001b[0m: name 'dataset' is not defined"
     ]
    }
   ],
   "source": [
    "dataset\n",
    "all_disease_lst=['Alzheimer','cancer','depression','heart attack','Parkinson','stroke']"
   ]
  },
  {
   "cell_type": "code",
   "execution_count": 11,
   "metadata": {
    "code_folding": []
   },
   "outputs": [],
   "source": [
    "from copy import deepcopy\n",
    "data=[]\n",
    "\n",
    "for i,dic in enumerate(all_f1s_dic):\n",
    "    lst=[]\n",
    "    for label in dic:\n",
    "        lst=(dic[label],label,all_disease_lst[i],disease_map_num_train_sample[all_disease_lst[i]][label])\n",
    "#         print(lst)\n",
    "        data.append(lst)"
   ]
  },
  {
   "cell_type": "code",
   "execution_count": 12,
   "metadata": {},
   "outputs": [
    {
     "data": {
      "text/html": [
       "<div>\n",
       "<style scoped>\n",
       "    .dataframe tbody tr th:only-of-type {\n",
       "        vertical-align: middle;\n",
       "    }\n",
       "\n",
       "    .dataframe tbody tr th {\n",
       "        vertical-align: top;\n",
       "    }\n",
       "\n",
       "    .dataframe thead th {\n",
       "        text-align: right;\n",
       "    }\n",
       "</style>\n",
       "<table border=\"1\" class=\"dataframe\">\n",
       "  <thead>\n",
       "    <tr style=\"text-align: right;\">\n",
       "      <th></th>\n",
       "      <th>f1</th>\n",
       "      <th>label</th>\n",
       "      <th>disease</th>\n",
       "      <th>num_train_samples</th>\n",
       "    </tr>\n",
       "  </thead>\n",
       "  <tbody>\n",
       "    <tr>\n",
       "      <th>0</th>\n",
       "      <td>0.40</td>\n",
       "      <td>0</td>\n",
       "      <td>alzheimer</td>\n",
       "      <td>10</td>\n",
       "    </tr>\n",
       "    <tr>\n",
       "      <th>1</th>\n",
       "      <td>0.92</td>\n",
       "      <td>1</td>\n",
       "      <td>alzheimer</td>\n",
       "      <td>511</td>\n",
       "    </tr>\n",
       "    <tr>\n",
       "      <th>2</th>\n",
       "      <td>0.61</td>\n",
       "      <td>2</td>\n",
       "      <td>alzheimer</td>\n",
       "      <td>100</td>\n",
       "    </tr>\n",
       "    <tr>\n",
       "      <th>3</th>\n",
       "      <td>0.00</td>\n",
       "      <td>3</td>\n",
       "      <td>alzheimer</td>\n",
       "      <td>4</td>\n",
       "    </tr>\n",
       "    <tr>\n",
       "      <th>4</th>\n",
       "      <td>0.39</td>\n",
       "      <td>0</td>\n",
       "      <td>cancer</td>\n",
       "      <td>73</td>\n",
       "    </tr>\n",
       "  </tbody>\n",
       "</table>\n",
       "</div>"
      ],
      "text/plain": [
       "     f1  label    disease  num_train_samples\n",
       "0  0.40  0      alzheimer  10               \n",
       "1  0.92  1      alzheimer  511              \n",
       "2  0.61  2      alzheimer  100              \n",
       "3  0.00  3      alzheimer  4                \n",
       "4  0.39  0      cancer     73               "
      ]
     },
     "execution_count": 12,
     "metadata": {},
     "output_type": "execute_result"
    }
   ],
   "source": [
    "dataset=pd.DataFrame(data=data,columns=['f1','label','disease','num_train_samples'])\n",
    "dataset.head()"
   ]
  },
  {
   "cell_type": "code",
   "execution_count": 21,
   "metadata": {},
   "outputs": [],
   "source": [
    "dataset.loc[dataset['disease']=='alzheimer','disease']='Alzheimer'\n",
    "dataset.loc[dataset['disease']=='parkinson','disease']='Parkinson'"
   ]
  },
  {
   "cell_type": "code",
   "execution_count": 24,
   "metadata": {},
   "outputs": [
    {
     "data": {
      "image/png": "[encoded data removed]",
      "text/plain": [
       "<Figure size 432x288 with 1 Axes>"
      ]
     },
     "metadata": {},
     "output_type": "display_data"
    }
   ],
   "source": [
    "import matplotlib.pyplot as plt\n",
    "\n",
    "ax=sns.scatterplot(x=\"num_train_samples\", y=\"f1\", \n",
    "#                 hue=\"label\",\n",
    "#                 style=\"disease\",\n",
    "                style=\"label\",\n",
    "                hue=\"disease\",\n",
    "                data=dataset)\n",
    "ax.set(xlabel='Number of Training Samples', ylabel='F1 Score')\n",
    "# ax.savefig('output.png')\n",
    "plt.show()"
   ]
  },
  {
   "cell_type": "markdown",
   "metadata": {},
   "source": [
    "## confusion matrix"
   ]
  },
  {
   "cell_type": "code",
   "execution_count": 26,
   "metadata": {},
   "outputs": [],
   "source": [
    "data=np.array([[  0 ,  3 ,  1 ,  0],\n",
    " [  0, 162 ,  8 ,  1],\n",
    " [  0  ,13,  19 ,  1],\n",
    " [  0   ,0 ,  1 ,  0]]\n",
    ")"
   ]
  },
  {
   "cell_type": "code",
   "execution_count": 27,
   "metadata": {},
   "outputs": [
    {
     "data": {
      "text/plain": [
       "<matplotlib.axes._subplots.AxesSubplot at 0x1a0f488e4a8>"
      ]
     },
     "execution_count": 27,
     "metadata": {},
     "output_type": "execute_result"
    },
    {
     "data": {
      "image/png": "[encoded data removed]",
      "text/plain": [
       "<Figure size 432x288 with 2 Axes>"
      ]
     },
     "metadata": {},
     "output_type": "display_data"
    }
   ],
   "source": [
    "sns.heatmap(data=data, cmap=\"YlGnBu\",annot=True)"
   ]
  },
  {
   "cell_type": "code",
   "execution_count": 19,
   "metadata": {},
   "outputs": [
    {
     "data": {
      "text/plain": [
       "<matplotlib.axes._subplots.AxesSubplot at 0x1a0f4548b70>"
      ]
     },
     "execution_count": 19,
     "metadata": {},
     "output_type": "execute_result"
    },
    {
     "data": {
      "image/png": "[encoded data removed]",
      "text/plain": [
       "<Figure size 432x288 with 2 Axes>"
      ]
     },
     "metadata": {},
     "output_type": "display_data"
    }
   ],
   "source": [
    "data=np.array([[  7 , 13 ,  4,   1],\n",
    " [  4, 111   ,4  , 2],\n",
    " [  1 , 17,  13  , 1],\n",
    " [  0   ,2  , 2 ,  1]]\n",
    "\n",
    ")\n",
    "sns.heatmap(data=data, cmap=\"YlGnBu\",annot=True)"
   ]
  },
  {
   "cell_type": "code",
   "execution_count": 20,
   "metadata": {},
   "outputs": [
    {
     "data": {
      "text/plain": [
       "<matplotlib.axes._subplots.AxesSubplot at 0x1a0f45e3978>"
      ]
     },
     "execution_count": 20,
     "metadata": {},
     "output_type": "execute_result"
    },
    {
     "data": {
      "image/png": "[encoded data removed]",
      "text/plain": [
       "<Figure size 432x288 with 2 Axes>"
      ]
     },
     "metadata": {},
     "output_type": "display_data"
    }
   ],
   "source": [
    "data=np.array([[ 8 , 9 , 1 , 3],\n",
    " [ 4 ,55  ,1 ,23],\n",
    " [ 0 , 3,  0 , 2],\n",
    " [ 1, 23,  1 ,34]]\n",
    "\n",
    "\n",
    ")\n",
    "sns.heatmap(data=data, cmap=\"YlGnBu\",annot=True)"
   ]
  },
  {
   "cell_type": "code",
   "execution_count": 22,
   "metadata": {},
   "outputs": [
    {
     "data": {
      "text/plain": [
       "<matplotlib.axes._subplots.AxesSubplot at 0x1a0f468ac18>"
      ]
     },
     "execution_count": 22,
     "metadata": {},
     "output_type": "execute_result"
    },
    {
     "data": {
      "image/png": "[encoded data removed]",
      "text/plain": [
       "<Figure size 432x288 with 2 Axes>"
      ]
     },
     "metadata": {},
     "output_type": "display_data"
    }
   ],
   "source": [
    "data=np.array([[97,  5,  1,  7],\n",
    " [ 9 ,21 , 1 , 0],\n",
    " [10  ,1 , 5,  0],\n",
    " [ 5  ,0 , 0 , 1]]\n",
    "\n",
    "\n",
    ")\n",
    "sns.heatmap(data=data, cmap=\"YlGnBu\",annot=True)"
   ]
  },
  {
   "cell_type": "code",
   "execution_count": 24,
   "metadata": {},
   "outputs": [
    {
     "data": {
      "text/plain": [
       "<matplotlib.axes._subplots.AxesSubplot at 0x1a0f47837f0>"
      ]
     },
     "execution_count": 24,
     "metadata": {},
     "output_type": "execute_result"
    },
    {
     "data": {
      "image/png": "[encoded data removed]",
      "text/plain": [
       "<Figure size 432x288 with 2 Axes>"
      ]
     },
     "metadata": {},
     "output_type": "display_data"
    }
   ],
   "source": [
    "data=np.array([[27 , 8 , 2 , 0],\n",
    " [ 3 ,95 , 8 , 0],\n",
    " [ 0 , 2, 11 , 0],\n",
    " [ 0 , 1  ,0 , 2]]\n",
    "\n",
    "\n",
    ")\n",
    "sns.heatmap(data=data, cmap=\"YlGnBu\",annot=True)"
   ]
  },
  {
   "cell_type": "code",
   "execution_count": 25,
   "metadata": {},
   "outputs": [
    {
     "data": {
      "text/plain": [
       "<matplotlib.axes._subplots.AxesSubplot at 0x1a0f480edd8>"
      ]
     },
     "execution_count": 25,
     "metadata": {},
     "output_type": "execute_result"
    },
    {
     "data": {
      "image/png": "[encoded data removed]",
      "text/plain": [
       "<Figure size 432x288 with 2 Axes>"
      ]
     },
     "metadata": {},
     "output_type": "display_data"
    }
   ],
   "source": [
    "data=np.array([[90 , 3,  5 , 0],\n",
    " [14 ,36 , 3 , 0],\n",
    " [ 7  ,1 ,15 , 0],\n",
    " [ 3 , 0 , 1 , 0]]\n",
    "\n",
    "\n",
    ")\n",
    "sns.heatmap(data=data, cmap=\"YlGnBu\",annot=True)"
   ]
  },
  {
   "cell_type": "code",
   "execution_count": null,
   "metadata": {},
   "outputs": [],
   "source": []
  }
 ],
 "metadata": {
  "hide_input": false,
  "kernelspec": {
   "display_name": "Python 3",
   "language": "python",
   "name": "python3"
  },
  "language_info": {
   "codemirror_mode": {
    "name": "ipython",
    "version": 3
   },
   "file_extension": ".py",
   "mimetype": "text/x-python",
   "name": "python",
   "nbconvert_exporter": "python",
   "pygments_lexer": "ipython3",
   "version": "3.6.5"
  },
  "toc": {
   "base_numbering": 1,
   "nav_menu": {},
   "number_sections": true,
   "sideBar": true,
   "skip_h1_title": false,
   "title_cell": "Table of Contents",
   "title_sidebar": "Contents",
   "toc_cell": false,
   "toc_position": {},
   "toc_section_display": true,
   "toc_window_display": false
  }
 },
 "nbformat": 4,
 "nbformat_minor": 2
}
